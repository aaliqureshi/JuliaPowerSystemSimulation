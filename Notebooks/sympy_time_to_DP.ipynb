{
 "cells": [
  {
   "cell_type": "code",
   "execution_count": 1,
   "metadata": {},
   "outputs": [],
   "source": [
    "from sympy import *"
   ]
  },
  {
   "cell_type": "code",
   "execution_count": 2,
   "metadata": {},
   "outputs": [],
   "source": [
    "def time2DP(eq):\n",
    "    expr = sympify(eq)\n",
    "    dae_variables=expr.atoms(Function)\n",
    "    \n",
    "    # get exp expression\n",
    "    omega = symbols('omega',real = True,nonzero=True,constant=True)\n",
    "    t = symbols('t')\n",
    "    k = symbols('k',real=True,constant = True)\n",
    "    exp_term = exp(I*k*omega*t)\n",
    "\n",
    "    ## substitue all time functions with their complex representation\n",
    "    dae_vars = list(dae_variables)\n",
    "    expr_phasor = expr\n",
    "    idx=0\n",
    "    for vars in dae_vars:\n",
    "        var = str(vars).split('(')\n",
    "        var = var[0]\n",
    "        v1 = sympify(var+'d(t)')\n",
    "        v2 = sympify(var+'q(t)')\n",
    "\n",
    "        expr_phasor = expr_phasor.subs(dae_vars[idx],v1+v2*I)\n",
    "        idx+=1\n",
    "    \n",
    "    dae_variables=expr_phasor.atoms(Function)\n",
    "\n",
    "\n",
    "    ## substitue all time functions with their Fourier representation\n",
    "    dae_vars = list(dae_variables)\n",
    "    # expr_phasor = expr\n",
    "    for i in range(len(dae_vars)):\n",
    "        expr_phasor = expr_phasor.subs(dae_vars[i],dae_vars[i]*exp_term)\n",
    "    \n",
    "    f_t = expr_phasor.doit()\n",
    "    f_t = f_t.simplify()\n",
    "    f_f = f_t / exp_term\n",
    "    expr_DP = f_f.expand()\n",
    "    \n",
    "    return expr_DP\n"
   ]
  },
  {
   "cell_type": "code",
   "execution_count": 3,
   "metadata": {},
   "outputs": [
    {
     "data": {
      "text/latex": [
       "$\\displaystyle - i L_{2} k \\omega \\operatorname{I_{32d}}{\\left(t \\right)} + L_{2} k \\omega \\operatorname{I_{32q}}{\\left(t \\right)} - L_{2} \\frac{d}{d t} \\operatorname{I_{32d}}{\\left(t \\right)} - i L_{2} \\frac{d}{d t} \\operatorname{I_{32q}}{\\left(t \\right)} - \\operatorname{V_{2d}}{\\left(t \\right)} - i \\operatorname{V_{2q}}{\\left(t \\right)} + \\operatorname{V_{3d}}{\\left(t \\right)} + i \\operatorname{V_{3q}}{\\left(t \\right)}$"
      ],
      "text/plain": [
       "-I*L2*k*omega*I_32d(t) + L2*k*omega*I_32q(t) - L2*Derivative(I_32d(t), t) - I*L2*Derivative(I_32q(t), t) - V_2d(t) - I*V_2q(t) + V_3d(t) + I*V_3q(t)"
      ]
     },
     "execution_count": 3,
     "metadata": {},
     "output_type": "execute_result"
    }
   ],
   "source": [
    "ex1 = time2DP('V_3(t) - V_2(t) - L2*Derivative(I_32(t),t)')\n",
    "ex1"
   ]
  }
 ],
 "metadata": {
  "kernelspec": {
   "display_name": "Python 3",
   "language": "python",
   "name": "python3"
  },
  "language_info": {
   "codemirror_mode": {
    "name": "ipython",
    "version": 3
   },
   "file_extension": ".py",
   "mimetype": "text/x-python",
   "name": "python",
   "nbconvert_exporter": "python",
   "pygments_lexer": "ipython3",
   "version": "3.10.1"
  }
 },
 "nbformat": 4,
 "nbformat_minor": 2
}
